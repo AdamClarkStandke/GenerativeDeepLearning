{
  "nbformat": 4,
  "nbformat_minor": 0,
  "metadata": {
    "colab": {
      "provenance": [],
      "authorship_tag": "ABX9TyNTASkpga7NS4wifm1FLOWL",
      "include_colab_link": true
    },
    "kernelspec": {
      "name": "python3",
      "display_name": "Python 3"
    },
    "language_info": {
      "name": "python"
    }
  },
  "cells": [
    {
      "cell_type": "markdown",
      "metadata": {
        "id": "view-in-github",
        "colab_type": "text"
      },
      "source": [
        "<a href=\"https://colab.research.google.com/github/AdamClarkStandke/GenerativeDeepLearning/blob/main/VAE.ipynb\" target=\"_parent\"><img src=\"https://colab.research.google.com/assets/colab-badge.svg\" alt=\"Open In Colab\"/></a>"
      ]
    },
    {
      "cell_type": "code",
      "execution_count": 10,
      "metadata": {
        "id": "kH1QP509_Fzi"
      },
      "outputs": [],
      "source": [
        "import numpy as np\n",
        "from tensorflow.keras import datasets\n",
        "import matplotlib.pyplot as plt\n",
        "from tensorflow.keras import layers, models, metrics, losses\n",
        "import tensorflow as tf\n",
        "from keras import backend as K\n",
        "(x_train,y_train), (x_test,y_test) = datasets.fashion_mnist.load_data()"
      ]
    },
    {
      "cell_type": "code",
      "source": [
        "def preprocess(imgs):\n",
        "    imgs = imgs.astype(\"float32\") / 255.0\n",
        "    imgs = np.pad(imgs, ((0, 0), (2, 2), (2, 2)), constant_values=0.0)\n",
        "    imgs = np.expand_dims(imgs, -1)\n",
        "    return imgs\n",
        "\n",
        "x_train = preprocess(x_train)\n",
        "x_test = preprocess(x_test)"
      ],
      "metadata": {
        "id": "99J9K-q-ADdh"
      },
      "execution_count": 11,
      "outputs": []
    },
    {
      "cell_type": "markdown",
      "source": [
        "# Sampling Layer\n",
        "\n",
        "\n",
        "We sample a point **z** from the latent distribution using the following equation:\n",
        "\n",
        "z = z_mean + z_sigma * epsilon\n",
        "\n",
        "where z_sigma = exp(z_log_var * 0.5) and epsilon ~ N(0, I)\n",
        "\n"
      ],
      "metadata": {
        "id": "NRuG7dSnx5Tu"
      }
    },
    {
      "cell_type": "code",
      "source": [
        "# creating new layer by subclassing Keras Layer class\n",
        "# (can then be used in VAE network)\n",
        "class Sampling(layers.Layer):\n",
        "    def call(self, inputs):\n",
        "        z_mean, z_log_var = inputs\n",
        "        batch = tf.shape(z_mean)[0]\n",
        "        dim = tf.shape(z_mean)[1]\n",
        "        epsilon = K.random_normal(shape=(batch, dim))\n",
        "        return z_mean + tf.exp(0.5 * z_log_var) * epsilon # The reparameterization Trick!"
      ],
      "metadata": {
        "id": "cLDsRboOx-KK"
      },
      "execution_count": 12,
      "outputs": []
    },
    {
      "cell_type": "markdown",
      "source": [
        "# Encoder\n"
      ],
      "metadata": {
        "id": "cbOjwP7vBBEm"
      }
    },
    {
      "cell_type": "code",
      "source": [
        "encoder_input = layers.Input(shape=(32, 32, 1), name = \"encoder_input\")\n",
        "x = layers.Conv2D(32, (3, 3), strides = 2, activation = 'relu', padding=\"same\")(\n",
        "    encoder_input\n",
        ")\n",
        "x = layers.Conv2D(64, (3, 3), strides = 2, activation = 'relu', padding=\"same\")(x)\n",
        "x = layers.Conv2D(128, (3, 3), strides = 2, activation = 'relu', padding=\"same\")(x)\n",
        "shape_before_flattening = K.int_shape(x)[1:]\n",
        "\n",
        "x = layers.Flatten()(x)\n",
        "\n",
        "# flatten layer is directly connected z_mean and z_log_var layers\n",
        "z_mean = layers.Dense(2, name=\"z_mean\")(x)\n",
        "z_log_var = layers.Dense(2, name=\"z_log_var\")(x)\n",
        "# calling the sampling layer created above to sample from the latent space\n",
        "z = Sampling()([z_mean, z_log_var])\n",
        "\n",
        "encoder = models.Model(encoder_input, [z_mean, z_log_var, z], name=\"encoder\")"
      ],
      "metadata": {
        "id": "-w2ErM8mBFVd"
      },
      "execution_count": 19,
      "outputs": []
    },
    {
      "cell_type": "code",
      "source": [
        "encoder.summary()"
      ],
      "metadata": {
        "colab": {
          "base_uri": "https://localhost:8080/"
        },
        "id": "OixVmsTgCgmG",
        "outputId": "5c75f96a-0447-49c7-a28b-c7d6dd7559e0"
      },
      "execution_count": 14,
      "outputs": [
        {
          "output_type": "stream",
          "name": "stdout",
          "text": [
            "Model: \"encoder\"\n",
            "__________________________________________________________________________________________________\n",
            " Layer (type)                Output Shape                 Param #   Connected to                  \n",
            "==================================================================================================\n",
            " encoder_input (InputLayer)  [(None, 28, 28, 1)]          0         []                            \n",
            "                                                                                                  \n",
            " conv2d_3 (Conv2D)           (None, 14, 14, 32)           320       ['encoder_input[0][0]']       \n",
            "                                                                                                  \n",
            " conv2d_4 (Conv2D)           (None, 7, 7, 64)             18496     ['conv2d_3[0][0]']            \n",
            "                                                                                                  \n",
            " conv2d_5 (Conv2D)           (None, 4, 4, 128)            73856     ['conv2d_4[0][0]']            \n",
            "                                                                                                  \n",
            " flatten_1 (Flatten)         (None, 2048)                 0         ['conv2d_5[0][0]']            \n",
            "                                                                                                  \n",
            " z_mean (Dense)              (None, 2)                    4098      ['flatten_1[0][0]']           \n",
            "                                                                                                  \n",
            " z_log_var (Dense)           (None, 2)                    4098      ['flatten_1[0][0]']           \n",
            "                                                                                                  \n",
            " sampling_1 (Sampling)       (None, 2)                    0         ['z_mean[0][0]',              \n",
            "                                                                     'z_log_var[0][0]']           \n",
            "                                                                                                  \n",
            "==================================================================================================\n",
            "Total params: 100868 (394.02 KB)\n",
            "Trainable params: 100868 (394.02 KB)\n",
            "Non-trainable params: 0 (0.00 Byte)\n",
            "__________________________________________________________________________________________________\n"
          ]
        }
      ]
    },
    {
      "cell_type": "markdown",
      "source": [
        "# Decoder"
      ],
      "metadata": {
        "id": "HCEJ3FfdCsm0"
      }
    },
    {
      "cell_type": "code",
      "source": [
        "decoder_input = layers.Input(shape=(2,), name=\"decoder_input\")\n",
        "x = layers.Dense(np.prod(shape_before_flattening))(decoder_input)\n",
        "x = layers.Reshape(shape_before_flattening)(x)\n",
        "x = layers.Conv2DTranspose(\n",
        "    128, (3, 3), strides=2, activation = 'relu', padding=\"same\"\n",
        ")(x)\n",
        "x = layers.Conv2DTranspose(\n",
        "    64, (3, 3), strides=2, activation = 'relu', padding=\"same\"\n",
        ")(x)\n",
        "x = layers.Conv2DTranspose(\n",
        "    32, (3, 3), strides=2, activation = 'relu', padding=\"same\"\n",
        ")(x)\n",
        "decoder_output = layers.Conv2D(\n",
        "    1,\n",
        "    (3, 3),\n",
        "    strides = 1,\n",
        "    activation=\"sigmoid\",\n",
        "    padding=\"same\",\n",
        "    name=\"decoder_output\"\n",
        ")(x)\n",
        "\n",
        "decoder = models.Model(decoder_input, decoder_output)"
      ],
      "metadata": {
        "id": "JinJp4xwC0yQ"
      },
      "execution_count": 15,
      "outputs": []
    },
    {
      "cell_type": "markdown",
      "source": [
        "# Creating VAE and training the VAE"
      ],
      "metadata": {
        "id": "gqHJRSTQFBgn"
      }
    },
    {
      "cell_type": "code",
      "source": [
        "class VAE(models.Model):\n",
        "    def __init__(self, encoder, decoder, **kwargs):\n",
        "        super(VAE, self).__init__(**kwargs)\n",
        "        self.encoder = encoder\n",
        "        self.decoder = decoder\n",
        "        self.total_loss_tracker = metrics.Mean(name=\"total_loss\")\n",
        "        self.reconstruction_loss_tracker = metrics.Mean(\n",
        "            name=\"reconstruction_loss\"\n",
        "        )\n",
        "        self.kl_loss_tracker = metrics.Mean(name=\"kl_loss\")\n",
        "\n",
        "    @property\n",
        "    def metrics(self):\n",
        "        return [\n",
        "            self.total_loss_tracker,\n",
        "            self.reconstruction_loss_tracker,\n",
        "            self.kl_loss_tracker,\n",
        "        ]\n",
        "    # fucntion that outputs VAE output for prediction\n",
        "    def call(self, inputs):\n",
        "        z_mean, z_log_var, z = encoder(inputs)\n",
        "        reconstruction = decoder(z)\n",
        "        return z_mean, z_log_var, reconstruction\n",
        "\n",
        "    def train_step(self, data):\n",
        "        with tf.GradientTape() as tape:\n",
        "            z_mean, z_log_var, reconstruction = self(data)\n",
        "            reconstruction_loss = tf.reduce_mean(\n",
        "                500\n",
        "                * losses.binary_crossentropy(\n",
        "                    data, reconstruction, axis=(1, 2, 3)\n",
        "                )\n",
        "            )\n",
        "            kl_loss = tf.reduce_mean(\n",
        "                tf.reduce_sum(\n",
        "                    -0.5\n",
        "                    * (1 + z_log_var - tf.square(z_mean) - tf.exp(z_log_var)),\n",
        "                    axis = 1,\n",
        "                )\n",
        "            )\n",
        "            total_loss = reconstruction_loss + kl_loss\n",
        "\n",
        "        grads = tape.gradient(total_loss, self.trainable_weights)\n",
        "        self.optimizer.apply_gradients(zip(grads, self.trainable_weights))\n",
        "\n",
        "        self.total_loss_tracker.update_state(total_loss)\n",
        "        self.reconstruction_loss_tracker.update_state(reconstruction_loss)\n",
        "        self.kl_loss_tracker.update_state(kl_loss)\n",
        "\n",
        "        return {m.name: m.result() for m in self.metrics}\n",
        "\n",
        "vae = VAE(encoder, decoder)\n",
        "vae.compile(optimizer=\"adam\")\n",
        "vae.fit(\n",
        "    x_train,\n",
        "    epochs=5,\n",
        "    batch_size=100\n",
        ")"
      ],
      "metadata": {
        "colab": {
          "base_uri": "https://localhost:8080/"
        },
        "id": "j0WMl8iOFKFw",
        "outputId": "1bbc0332-3967-4c6e-a450-acaaafde5b40"
      },
      "execution_count": 20,
      "outputs": [
        {
          "output_type": "stream",
          "name": "stdout",
          "text": [
            "Epoch 1/5\n",
            "600/600 [==============================] - 206s 342ms/step - total_loss: 151.1842 - reconstruction_loss: 146.6524 - kl_loss: 4.5318\n",
            "Epoch 2/5\n",
            "600/600 [==============================] - 204s 339ms/step - total_loss: 134.3505 - reconstruction_loss: 129.4468 - kl_loss: 4.9038\n",
            "Epoch 3/5\n",
            "600/600 [==============================] - 197s 329ms/step - total_loss: 133.0324 - reconstruction_loss: 128.0298 - kl_loss: 5.0027\n",
            "Epoch 4/5\n",
            "600/600 [==============================] - 203s 339ms/step - total_loss: 132.2990 - reconstruction_loss: 127.2251 - kl_loss: 5.0741\n",
            "Epoch 5/5\n",
            "600/600 [==============================] - 188s 314ms/step - total_loss: 131.7088 - reconstruction_loss: 126.5556 - kl_loss: 5.1531\n"
          ]
        },
        {
          "output_type": "execute_result",
          "data": {
            "text/plain": [
              "<keras.src.callbacks.History at 0x7920b673ac80>"
            ]
          },
          "metadata": {},
          "execution_count": 20
        }
      ]
    },
    {
      "cell_type": "markdown",
      "source": [
        "# Generating non-novel images"
      ],
      "metadata": {
        "id": "OUbH2jeYRae3"
      }
    },
    {
      "cell_type": "code",
      "source": [
        "example_images = x_test[:5000]\n",
        "z_mean, z_log_var, reconstructions = vae.predict(example_images)"
      ],
      "metadata": {
        "colab": {
          "base_uri": "https://localhost:8080/"
        },
        "id": "8xcJHJcLQQwd",
        "outputId": "c4152f90-646d-4eee-b1f4-4ebf585b0fc7"
      },
      "execution_count": 31,
      "outputs": [
        {
          "output_type": "stream",
          "name": "stdout",
          "text": [
            "157/157 [==============================] - 9s 58ms/step\n"
          ]
        }
      ]
    },
    {
      "cell_type": "code",
      "source": [
        "reconstructions.shape"
      ],
      "metadata": {
        "colab": {
          "base_uri": "https://localhost:8080/"
        },
        "id": "OgwNRbhFCFtx",
        "outputId": "30cb263e-4f58-401c-9115-4fd248114962"
      },
      "execution_count": 32,
      "outputs": [
        {
          "output_type": "execute_result",
          "data": {
            "text/plain": [
              "(5000, 32, 32, 1)"
            ]
          },
          "metadata": {},
          "execution_count": 32
        }
      ]
    },
    {
      "cell_type": "code",
      "source": [
        "import matplotlib.pyplot as plt\n",
        "plt.imshow(reconstructions[400, :, :, :])"
      ],
      "metadata": {
        "colab": {
          "base_uri": "https://localhost:8080/",
          "height": 447
        },
        "id": "o7rZELCcQcga",
        "outputId": "5ac625e8-32ca-4766-fea5-a86812d55dcf"
      },
      "execution_count": 39,
      "outputs": [
        {
          "output_type": "execute_result",
          "data": {
            "text/plain": [
              "<matplotlib.image.AxesImage at 0x7920b73d2860>"
            ]
          },
          "metadata": {},
          "execution_count": 39
        },
        {
          "output_type": "display_data",
          "data": {
            "text/plain": [
              "<Figure size 640x480 with 1 Axes>"
            ],
            "image/png": "[encoded data removed]"
          },
          "metadata": {}
        }
      ]
    },
    {
      "cell_type": "markdown",
      "source": [
        "# Visualizing the Latent Space"
      ],
      "metadata": {
        "id": "yDsX15urRhZE"
      }
    },
    {
      "cell_type": "code",
      "source": [
        "embeddings = encoder.predict(example_images)\n",
        "plt.figure(figsize=(8, 8))\n",
        "plt.scatter(embeddings[:, 0], embeddings[:, 1], c=\"black\", alpha=0.5, s=3)"
      ],
      "metadata": {
        "id": "mEUbx2lgRgD7"
      },
      "execution_count": null,
      "outputs": []
    },
    {
      "cell_type": "markdown",
      "source": [
        "# Generating novel images using the decoder"
      ],
      "metadata": {
        "id": "PkTWnUulV5co"
      }
    },
    {
      "cell_type": "code",
      "source": [
        "grid_width, grid_height = (6, 3)\n",
        "z_sample = np.random.normal(size=(grid_width * grid_height, 2))"
      ],
      "metadata": {
        "id": "UG_8SzQIWREj"
      },
      "execution_count": 40,
      "outputs": []
    },
    {
      "cell_type": "code",
      "source": [
        "reconstructions = decoder.predict(z_sample)"
      ],
      "metadata": {
        "colab": {
          "base_uri": "https://localhost:8080/"
        },
        "id": "Xf5NNuuaE2pj",
        "outputId": "eb639fd9-fc31-465a-c744-83c5a2d0fbda"
      },
      "execution_count": 41,
      "outputs": [
        {
          "output_type": "stream",
          "name": "stdout",
          "text": [
            "1/1 [==============================] - 1s 670ms/step\n"
          ]
        }
      ]
    },
    {
      "cell_type": "code",
      "source": [
        "reconstructions.shape"
      ],
      "metadata": {
        "colab": {
          "base_uri": "https://localhost:8080/"
        },
        "id": "fPYjxIsaE85k",
        "outputId": "bfe97f91-3d4a-45e1-9e55-dbceac5260ec"
      },
      "execution_count": 42,
      "outputs": [
        {
          "output_type": "execute_result",
          "data": {
            "text/plain": [
              "(18, 32, 32, 1)"
            ]
          },
          "metadata": {},
          "execution_count": 42
        }
      ]
    },
    {
      "cell_type": "code",
      "source": [
        "plt.imshow(reconstructions[17, :, :, 0])"
      ],
      "metadata": {
        "colab": {
          "base_uri": "https://localhost:8080/",
          "height": 447
        },
        "id": "l9wQ_-4eWb0N",
        "outputId": "f7f69f98-2b06-492c-e544-b13766bfec71"
      },
      "execution_count": 61,
      "outputs": [
        {
          "output_type": "execute_result",
          "data": {
            "text/plain": [
              "<matplotlib.image.AxesImage at 0x7920bcec6d70>"
            ]
          },
          "metadata": {},
          "execution_count": 61
        },
        {
          "output_type": "display_data",
          "data": {
            "text/plain": [
              "<Figure size 640x480 with 1 Axes>"
            ],
            "image/png": "[encoded data removed]"
          },
          "metadata": {}
        }
      ]
    },
    {
      "cell_type": "markdown",
      "source": [
        "# Multi-Dimensional Latent Space VAE\n",
        "\n",
        "\n",
        "---\n",
        "\n"
      ],
      "metadata": {
        "id": "CZVbp-gkuHR7"
      }
    },
    {
      "cell_type": "markdown",
      "source": [
        "# Loading Celeb Faces, Preprocess and imports"
      ],
      "metadata": {
        "id": "Po9YG41quYPa"
      }
    },
    {
      "cell_type": "code",
      "source": [
        "import numpy as np\n",
        "import matplotlib.pyplot as plt\n",
        "\n",
        "import tensorflow as tf\n",
        "import tensorflow.keras.backend as K\n",
        "from tensorflow.keras import (\n",
        "    layers,\n",
        "    models,\n",
        "    callbacks,\n",
        "    utils,\n",
        "    metrics,\n",
        "    losses,\n",
        "    optimizers,\n",
        ")\n",
        "\n",
        "from scipy.stats import norm\n",
        "import pandas as pd"
      ],
      "metadata": {
        "id": "Qe7bTBWztyRj"
      },
      "execution_count": 62,
      "outputs": []
    },
    {
      "cell_type": "code",
      "source": [
        "IMAGE_SIZE = 64\n",
        "CHANNELS = 3\n",
        "BATCH_SIZE = 128\n",
        "NUM_FEATURES = 64\n",
        "Z_DIM = 200 # latent space dimension is 200\n",
        "LEARNING_RATE = 0.0005\n",
        "EPOCHS = 10\n",
        "BETA = 2000\n",
        "LOAD_MODEL = False"
      ],
      "metadata": {
        "id": "8tXoSWVwupJB"
      },
      "execution_count": 63,
      "outputs": []
    },
    {
      "cell_type": "code",
      "source": [],
      "metadata": {
        "colab": {
          "base_uri": "https://localhost:8080/",
          "height": 373
        },
        "id": "vm82Lf45u27G",
        "outputId": "c9e8e2a0-0ac9-4133-fb32-a81524f687d0"
      },
      "execution_count": 64,
      "outputs": [
        {
          "output_type": "error",
          "ename": "OSError",
          "evalue": "ignored",
          "traceback": [
            "\u001b[0;31m---------------------------------------------------------------------------\u001b[0m",
            "\u001b[0;31mOSError\u001b[0m                                   Traceback (most recent call last)",
            "\u001b[0;32m<ipython-input-64-2e5e3441a2d1>\u001b[0m in \u001b[0;36m<cell line: 1>\u001b[0;34m()\u001b[0m\n\u001b[0;32m----> 1\u001b[0;31m \u001b[0;32mimport\u001b[0m \u001b[0mkaggle\u001b[0m\u001b[0;34m\u001b[0m\u001b[0;34m\u001b[0m\u001b[0m\n\u001b[0m",
            "\u001b[0;32m/usr/local/lib/python3.10/dist-packages/kaggle/__init__.py\u001b[0m in \u001b[0;36m<module>\u001b[0;34m\u001b[0m\n\u001b[1;32m     21\u001b[0m \u001b[0;34m\u001b[0m\u001b[0m\n\u001b[1;32m     22\u001b[0m \u001b[0mapi\u001b[0m \u001b[0;34m=\u001b[0m \u001b[0mKaggleApi\u001b[0m\u001b[0;34m(\u001b[0m\u001b[0mApiClient\u001b[0m\u001b[0;34m(\u001b[0m\u001b[0;34m)\u001b[0m\u001b[0;34m)\u001b[0m\u001b[0;34m\u001b[0m\u001b[0;34m\u001b[0m\u001b[0m\n\u001b[0;32m---> 23\u001b[0;31m \u001b[0mapi\u001b[0m\u001b[0;34m.\u001b[0m\u001b[0mauthenticate\u001b[0m\u001b[0;34m(\u001b[0m\u001b[0;34m)\u001b[0m\u001b[0;34m\u001b[0m\u001b[0;34m\u001b[0m\u001b[0m\n\u001b[0m",
            "\u001b[0;32m/usr/local/lib/python3.10/dist-packages/kaggle/api/kaggle_api_extended.py\u001b[0m in \u001b[0;36mauthenticate\u001b[0;34m(self)\u001b[0m\n\u001b[1;32m    401\u001b[0m                 \u001b[0mconfig_data\u001b[0m \u001b[0;34m=\u001b[0m \u001b[0mself\u001b[0m\u001b[0;34m.\u001b[0m\u001b[0mread_config_file\u001b[0m\u001b[0;34m(\u001b[0m\u001b[0mconfig_data\u001b[0m\u001b[0;34m)\u001b[0m\u001b[0;34m\u001b[0m\u001b[0;34m\u001b[0m\u001b[0m\n\u001b[1;32m    402\u001b[0m             \u001b[0;32melse\u001b[0m\u001b[0;34m:\u001b[0m\u001b[0;34m\u001b[0m\u001b[0;34m\u001b[0m\u001b[0m\n\u001b[0;32m--> 403\u001b[0;31m                 raise IOError('Could not find {}. Make sure it\\'s located in'\n\u001b[0m\u001b[1;32m    404\u001b[0m                               ' {}. Or use the environment method.'.format(\n\u001b[1;32m    405\u001b[0m                                   self.config_file, self.config_dir))\n",
            "\u001b[0;31mOSError\u001b[0m: Could not find kaggle.json. Make sure it's located in /root/.kaggle. Or use the environment method."
          ]
        }
      ]
    }
  ]
}